{
 "cells": [
  {
   "cell_type": "code",
   "execution_count": 3,
   "id": "618785db-0e6f-46df-b92a-5f8b72dafe01",
   "metadata": {},
   "outputs": [],
   "source": [
    "from src.utils import Utils\n",
    "import pandas as pd"
   ]
  },
  {
   "cell_type": "code",
   "execution_count": 4,
   "id": "97b3483d-41dc-4416-87d2-b6c604b2a085",
   "metadata": {},
   "outputs": [],
   "source": [
    "analytics_utils = Utils()\n",
    "df = analytics_utils.df"
   ]
  },
  {
   "cell_type": "code",
   "execution_count": 9,
   "id": "9da70698-3a25-4260-bf3c-97e678db2bb3",
   "metadata": {},
   "outputs": [
    {
     "name": "stdout",
     "output_type": "stream",
     "text": [
      "<class 'pandas.core.frame.DataFrame'>\n",
      "RangeIndex: 28532 entries, 0 to 28531\n",
      "Data columns (total 5 columns):\n",
      " #   Column     Non-Null Count  Dtype         \n",
      "---  ------     --------------  -----         \n",
      " 0   timestamp  28532 non-null  datetime64[ns]\n",
      " 1   key        28532 non-null  object        \n",
      " 2   date       28532 non-null  object        \n",
      " 3   hour       28532 non-null  int32         \n",
      " 4   minute     28532 non-null  int32         \n",
      "dtypes: datetime64[ns](1), int32(2), object(2)\n",
      "memory usage: 891.8+ KB\n"
     ]
    }
   ],
   "source": [
    "\"\"\"\n",
    "    df - pandas dataframe which contains all your logged keystrokes\n",
    "\"\"\"\n",
    "\n",
    "df.info()"
   ]
  },
  {
   "cell_type": "code",
   "execution_count": 10,
   "id": "017fbc0a-0577-46fe-a027-6b25aa7a19b2",
   "metadata": {},
   "outputs": [
    {
     "data": {
      "text/html": [
       "<div>\n",
       "<style scoped>\n",
       "    .dataframe tbody tr th:only-of-type {\n",
       "        vertical-align: middle;\n",
       "    }\n",
       "\n",
       "    .dataframe tbody tr th {\n",
       "        vertical-align: top;\n",
       "    }\n",
       "\n",
       "    .dataframe thead th {\n",
       "        text-align: right;\n",
       "    }\n",
       "</style>\n",
       "<table border=\"1\" class=\"dataframe\">\n",
       "  <thead>\n",
       "    <tr style=\"text-align: right;\">\n",
       "      <th></th>\n",
       "      <th>timestamp</th>\n",
       "      <th>key</th>\n",
       "      <th>date</th>\n",
       "      <th>hour</th>\n",
       "      <th>minute</th>\n",
       "    </tr>\n",
       "  </thead>\n",
       "  <tbody>\n",
       "    <tr>\n",
       "      <th>0</th>\n",
       "      <td>2025-04-13 22:32:51.444961</td>\n",
       "      <td>h</td>\n",
       "      <td>2025-04-13</td>\n",
       "      <td>22</td>\n",
       "      <td>32</td>\n",
       "    </tr>\n",
       "    <tr>\n",
       "      <th>1</th>\n",
       "      <td>2025-04-13 22:32:52.114516</td>\n",
       "      <td>h</td>\n",
       "      <td>2025-04-13</td>\n",
       "      <td>22</td>\n",
       "      <td>32</td>\n",
       "    </tr>\n",
       "    <tr>\n",
       "      <th>2</th>\n",
       "      <td>2025-04-13 22:32:52.398999</td>\n",
       "      <td>h</td>\n",
       "      <td>2025-04-13</td>\n",
       "      <td>22</td>\n",
       "      <td>32</td>\n",
       "    </tr>\n",
       "    <tr>\n",
       "      <th>3</th>\n",
       "      <td>2025-04-13 22:32:52.729150</td>\n",
       "      <td>s</td>\n",
       "      <td>2025-04-13</td>\n",
       "      <td>22</td>\n",
       "      <td>32</td>\n",
       "    </tr>\n",
       "    <tr>\n",
       "      <th>4</th>\n",
       "      <td>2025-04-13 22:32:52.892078</td>\n",
       "      <td>t</td>\n",
       "      <td>2025-04-13</td>\n",
       "      <td>22</td>\n",
       "      <td>32</td>\n",
       "    </tr>\n",
       "  </tbody>\n",
       "</table>\n",
       "</div>"
      ],
      "text/plain": [
       "                   timestamp key        date  hour  minute\n",
       "0 2025-04-13 22:32:51.444961   h  2025-04-13    22      32\n",
       "1 2025-04-13 22:32:52.114516   h  2025-04-13    22      32\n",
       "2 2025-04-13 22:32:52.398999   h  2025-04-13    22      32\n",
       "3 2025-04-13 22:32:52.729150   s  2025-04-13    22      32\n",
       "4 2025-04-13 22:32:52.892078   t  2025-04-13    22      32"
      ]
     },
     "execution_count": 10,
     "metadata": {},
     "output_type": "execute_result"
    }
   ],
   "source": [
    "df.head()"
   ]
  }
 ],
 "metadata": {
  "kernelspec": {
   "display_name": "Python 3 (ipykernel)",
   "language": "python",
   "name": "python3"
  },
  "language_info": {
   "codemirror_mode": {
    "name": "ipython",
    "version": 3
   },
   "file_extension": ".py",
   "mimetype": "text/x-python",
   "name": "python",
   "nbconvert_exporter": "python",
   "pygments_lexer": "ipython3",
   "version": "3.13.2"
  }
 },
 "nbformat": 4,
 "nbformat_minor": 5
}
